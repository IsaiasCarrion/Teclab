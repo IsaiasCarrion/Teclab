{
 "cells": [
  {
   "cell_type": "code",
   "execution_count": null,
   "metadata": {},
   "outputs": [],
   "source": [
    "import numpy as np, pandas as pd\n",
    "\n",
    "# Importamos los paquetes para graficar: Matplolib y Seaborn\n",
    "import matplotlib.pyplot as plt, seaborn as sns\n",
    "\n",
    "# Importamos algunos paquetes auxiliares:\n",
    "import datatime, os\n",
    "\n",
    "# Usamos esta opcion para que muestre los graficos en la celda de output\n",
    "%natplotlib incline\n",
    "\n",
    "# Definimos la ruta en lo que vamos a trabajar"
   ]
  }
 ],
 "metadata": {
  "language_info": {
   "name": "python"
  }
 },
 "nbformat": 4,
 "nbformat_minor": 2
}
